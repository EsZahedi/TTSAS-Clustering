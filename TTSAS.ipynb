{
 "cells": [
  {
   "cell_type": "code",
   "execution_count": 28,
   "metadata": {},
   "outputs": [],
   "source": [
    "# فراخوانی کتابخانه numpy\n",
    "import numpy as np\n",
    "\n",
    "# نمایش مرکز جدید خوشه\n",
    "def getClusterRepresentative(inds, X):\n",
    "    # میانگین از کلیه نمونه هایی که داخل یک خوشه افتادند\n",
    "    rep = np.mean(X.iloc[inds])\n",
    "    # بازگرداندن مرکز جدید محاسبه شده\n",
    "    return rep"
   ]
  },
  {
   "cell_type": "code",
   "execution_count": 29,
   "metadata": {},
   "outputs": [],
   "source": [
    "# فراخوانی کتابخانه numpy\n",
    "import numpy as np\n",
    "# تابع پیدا کردن نزدیک ترین خوشه \n",
    "def findClosestCluster(ii, labels, X):\n",
    "    # در خط پایین کلیه برچسب های منحصر بفرد را که تاکنون تخصیص داده درون ارایه جدید می ریزد\n",
    "    ulabels = np.unique(labels)\n",
    "    # این شرط چک میکند که آیا عنصر اول لیست صفر هست یا خیر\n",
    "    if (ulabels[0] == 0):\n",
    "        # در صورتی که صفر بود آن را از لیست حذف میکند\n",
    "        ulabels = ulabels[1:]\n",
    "    # اینجا یک ارایه خالی جهت اضافه نمودن فاصله اقلیدسی کلیه نمونه های یک خوشه از مرکز جدید ایجا می شود\n",
    "    x_ii_to_cluster = [];\n",
    "    # یک حلقه که به تعداد برچسب های منحصر بفردی که تاکنون تخصیص داده تکرار می شود\n",
    "    for lab in ulabels:\n",
    "        # اینجا کلیه اندیس هایی که مربوط به هر برچسب خاص هستند در لیست برچسب پیدا می شوند\n",
    "        inds = np.where( labels == lab )\n",
    "        # در خط پایین مرکز جدید خوشه محاسبه می شود\n",
    "        rep  = getClusterRepresentative( inds , X )\n",
    "        # فاصله کلیه نمونه های هر خوشه از مرکز جدید هر خوشه محاسبه می شود.\n",
    "        d = np.sqrt( np.dot(( X.iloc[ii].T - rep ) ,( X.iloc[ii].T - rep )) )\n",
    "        # این فاصله ها به لیست پایین اضافه می شوند\n",
    "        x_ii_to_cluster = np.append(x_ii_to_cluster,d)\n",
    "    # در خط پایین کمینه لیست فاصله ها بدست می اید\n",
    "    d_x_i_C_k = np.min(x_ii_to_cluster) \n",
    "    # اندیس عنصر کمینه بدست می اید\n",
    "    mind = np.argmin(x_ii_to_cluster)\n",
    "    # برچسب متناسب با عنصر کمینه بدست می اید\n",
    "    k = ulabels[mind]\n",
    "    # برچسب عنصر کیمنه و لیست فاصله ها به خروجی داده می شود\n",
    "    return d_x_i_C_k,k"
   ]
  },
  {
   "cell_type": "code",
   "execution_count": 47,
   "metadata": {},
   "outputs": [],
   "source": [
    "\n",
    "\n",
    "# فراخوانی کتابخانه numpy\n",
    "import numpy as np\n",
    "# تابع خوشه بندی که نمونه ها و مقادیر استانه تتا۱ و تتا۲ را می گیرد و برچسب های خروجی میدهد\n",
    "def TTSAS(X, theta1, theta2):\n",
    "    # تعداد نمونه ها\n",
    "    N = X.shape[0]\n",
    "    # تعداد ویژگی هر نمونه\n",
    "    nFeatures = X.shape[1]\n",
    "    # شمارنده برجسب ها\n",
    "    m = 0\n",
    "    # یک ارایه برای نگهداری اینکه ایا یک نمونه برچسب خورده یا خیر\n",
    "    is_labeled = np.zeros(N)\n",
    "    # برای نگهداری تغییرات گذشته\n",
    "    prev_change = 0\n",
    "    # برای نگهداری تغییرات فعلی\n",
    "    cur_change = 0\n",
    "    # ایا کلا تغییر وجود داشته\n",
    "    exists_change = 0\n",
    "    # یک لیست برای نگهداری برچسب های مربوط به نمونه ها\n",
    "    labels = np.zeros(N)\n",
    "    # شمارنده برای نگهداری تعداد دورها\n",
    "    iteration = 0\n",
    "    print('Runnig ...')\n",
    "    # یک حلقه با شرط اینکه تا زمانیکه مجموع عناصر لیست کمتر از تعداد نمونه هاست\n",
    "    while (np.sum(is_labeled) < N):\n",
    "        # شمارنده دور اضافه می شود\n",
    "        iteration = iteration + 1\n",
    "        print(iteration)\n",
    "        # چک می نماید که حلقه در اولین دور است\n",
    "        first_in_while_loop = 1\n",
    "        # یک حلقه بروی تمامی نمونه های ورودی\n",
    "        for ii in range(N):\n",
    "            # این شرط اولین دور حلقه وایل را چک میکند\n",
    "            if (is_labeled[ii] == 0 and first_in_while_loop == 1 and exists_change == 0):\n",
    "                # اگر شرط در ست یود\n",
    "                # چک کننده اولین دور، صفر می شود\n",
    "                first_in_while_loop = 0\n",
    "                # شمارنده برچسب یکی اضافه می شود\n",
    "                m = m + 1\n",
    "                # برچسب نمونه آي م برابر با مقدار ام می شود\n",
    "                labels[ii] = m\n",
    "                # در ماتریس برچسب خورده مقدار نمونه ای م یک می شود\n",
    "                # که نشان دهنده این است که این نمونه برچسب خورده یا خیر\n",
    "                is_labeled[ii] = 1\n",
    "                # پارامتر تعداد تغییرات جاری اضافه می شود\n",
    "                cur_change = cur_change + 1\n",
    "            # این شرط برای دورهای دوم به بعد حلقه وایل چک می شود\n",
    "            # اگر نمونه ای م برچسب نخورده بود وارد شرط می شویم\n",
    "            elif (is_labeled[ii] == 0):\n",
    "                # در این مرحله نزدیک ترین خوشه به نمونه محاسبه می شود مطابق تا بع بالا\n",
    "                d_x_i_C_k, k = findClosestCluster(ii, labels, X)\n",
    "                #  این شرط چک میکند که اگر فاصله نمونه تا خوشه کمتر از استانه اول بود\n",
    "                if (d_x_i_C_k < theta1):\n",
    "                    # آنگاه برچسب نزدیک ترین خوشه به نمونه مورد نظر داده می شود\n",
    "                    labels[ii] = k\n",
    "                    # درون بردار برچسب خورده عنصر مربوط به نمونه ای م یک می شود\n",
    "                    is_labeled[ii] = 1\n",
    "                    # تغییرات جاری یکی اضافه می شود\n",
    "                    cur_change = cur_change + 1\n",
    "                # اگر فاصله بین نمونه ای م و خوشه های محاصبه شد بیشتر از استانه دوم بود\n",
    "                elif (d_x_i_C_k > theta2):\n",
    "                    # انگاه به این نمونه یک برچسب جدید اختاصی میدهیم\n",
    "                    m = m + 1\n",
    "                    # درون لیست برچسب های برچسب نمونه ای م ست می شود\n",
    "                    labels[ii] = m\n",
    "                    # درون لیست برچسب خورده نمونه ای م به حالت برچسب خورده تغییر می کند\n",
    "                    is_labeled[ii] = 1\n",
    "                    # تغییرات جاری اضافه می شود\n",
    "                    cur_change = cur_change + 1\n",
    "            # در این شرط چک می شود که ایا نمونه ای م برچسب خورده است در صورتی که خورده بود\n",
    "            elif (is_labeled[ii] == 1):\n",
    "                # فقط تغییرات جاری اضافه می شود\n",
    "                cur_change = cur_change + 1\n",
    "            else:\n",
    "                # اگر نمونه مشکل داشت پیغام پایین چاپ می شود\n",
    "                print('should never get here\\n')\n",
    "        # تفاوت وضعیت جاری به وضعیت قبلی محاسبه می شود و در متغیر تغییرات موجود ریحته می شود\n",
    "        exists_change = np.abs( cur_change - prev_change ) \n",
    "        # وضعیت فعلی درون وضعیت قبلی ریحته می شود\n",
    "        prev_change   = cur_change\n",
    "        # وضعیت جاری ریست می شود\n",
    "        cur_change    = 0\n",
    "    # برچسب ها برگردانده می شوند.\n",
    "    return labels\n",
    "  \n",
    "    \n",
    "                \n",
    "      "
   ]
  },
  {
   "cell_type": "code",
   "execution_count": 48,
   "metadata": {},
   "outputs": [],
   "source": [
    "import pandas as pd"
   ]
  },
  {
   "cell_type": "code",
   "execution_count": 49,
   "metadata": {},
   "outputs": [],
   "source": [
    "X = pd.read_csv('data.txt',sep='\\t')"
   ]
  },
  {
   "cell_type": "code",
   "execution_count": 50,
   "metadata": {},
   "outputs": [
    {
     "name": "stdout",
     "output_type": "stream",
     "text": [
      "Runnig ...\n",
      "1\n",
      "2\n",
      "3\n",
      "4\n",
      "5\n",
      "6\n",
      "7\n",
      "8\n"
     ]
    }
   ],
   "source": [
    "theta1 = 0.5 \n",
    "theta2 = 0.75 \n",
    "labs = TTSAS( X, theta1, theta2 );\n"
   ]
  },
  {
   "cell_type": "code",
   "execution_count": 51,
   "metadata": {},
   "outputs": [
    {
     "name": "stdout",
     "output_type": "stream",
     "text": [
      "[ 1.  1.  1.  1.  1.  1.  1.  1.  1.  1.  1.  1.  1.  1.  1.  1.  1.  1.\n",
      "  1.  1.  1.  1.  1.  1.  1.  1.  1.  1.  1.  1.  1.  1.  1.  1.  1.  1.\n",
      "  1.  1.  1.  1.  1.  1.  1.  1.  2.  2.  3.  2.  2.  2.  3.  3.  3.  2.\n",
      "  3.  2.  3.  2.  2.  3.  2.  2.  3.  2.  2.  2.  2.  2.  2.  2.  3.  3.\n",
      "  3.  3.  8.  2.  2.  2.  2.  3.  3.  2.  2.  3.  3.  2.  2.  2.  2.  7.\n",
      "  2.  4.  5.  5.  4.  6.  6.  4.  4.  5.  5.  5.  5.  5.  5.  5.  6.  6.\n",
      "  9.  4.  6.  5.  4.  4.  5.  4. 10.  4.  6.  4.  9. 10.  4.  4.  5.  5.\n",
      "  5.  4.  5.  5.  4.  4.  5.  5.  5.  5.  5.]\n"
     ]
    }
   ],
   "source": [
    "print labs"
   ]
  },
  {
   "cell_type": "code",
   "execution_count": null,
   "metadata": {},
   "outputs": [],
   "source": []
  }
 ],
 "metadata": {
  "kernelspec": {
   "display_name": "Python 2",
   "language": "python",
   "name": "python2"
  },
  "language_info": {
   "codemirror_mode": {
    "name": "ipython",
    "version": 2
   },
   "file_extension": ".py",
   "mimetype": "text/x-python",
   "name": "python",
   "nbconvert_exporter": "python",
   "pygments_lexer": "ipython2",
   "version": "2.7.11"
  }
 },
 "nbformat": 4,
 "nbformat_minor": 2
}
